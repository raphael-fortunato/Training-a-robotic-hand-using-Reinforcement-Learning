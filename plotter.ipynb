{
 "cells": [
  {
   "cell_type": "code",
   "execution_count": 2,
   "metadata": {},
   "outputs": [],
   "source": [
    "import matplotlib\n",
    "matplotlib.use('Agg')\n",
    "import matplotlib.pyplot as plt\n",
    "plt.style.use('seaborn-darkgrid')\n",
    "import pandas as pd\n",
    "import tkinter\n",
    "# matplotlib\n",
    "titlesize = 33\n",
    "xsize = 30\n",
    "ysize = 30\n",
    "ticksize = 25\n",
    "legendsize = 25\n",
    "error_region_alpha = 0.25\n"
   ]
  },
  {
   "cell_type": "code",
   "execution_count": 3,
   "metadata": {},
   "outputs": [],
   "source": [
    "df_normal = pd.read_csv('data/normal.csv')\n",
    "df_normal = df_normal[:90]"
   ]
  },
  {
   "cell_type": "code",
   "execution_count": 4,
   "metadata": {},
   "outputs": [],
   "source": [
    "df_distance = pd.read_csv('data/distance.csv')\n",
    "df_distance = df_distance[:90]"
   ]
  },
  {
   "cell_type": "code",
   "execution_count": 5,
   "metadata": {},
   "outputs": [],
   "source": [
    "df_impact = pd.read_csv('data/impact.csv')\n",
    "df_impact = df_impact[:90]"
   ]
  },
  {
   "cell_type": "code",
   "execution_count": 6,
   "metadata": {},
   "outputs": [],
   "source": [
    "plt.plot(df_normal['Step'], df_normal['Value'], label='normal')\n",
    "plt.plot(df_distance['Step'], df_distance['Value'], label='distance')\n",
    "plt.plot(df_impact['Step'], df_impact['Value'], label='impact')\n",
    "plt.title(\"HandManipulateBlock-v0\")\n",
    "plt.xlabel('number of epochs')\n",
    "plt.ylabel('succes rate')\n",
    "\n",
    "plt.legend()\n",
    "plt.axis([0,90,0,1])\n",
    "plt.savefig('data/plot.png')"
   ]
  },
  {
   "cell_type": "code",
   "execution_count": null,
   "metadata": {},
   "outputs": [],
   "source": []
  }
 ],
 "metadata": {
  "kernelspec": {
   "display_name": "Python 3",
   "language": "python",
   "name": "python3"
  },
  "language_info": {
   "codemirror_mode": {
    "name": "ipython",
    "version": 3
   },
   "file_extension": ".py",
   "mimetype": "text/x-python",
   "name": "python",
   "nbconvert_exporter": "python",
   "pygments_lexer": "ipython3",
   "version": "3.6.9-final"
  }
 },
 "nbformat": 4,
 "nbformat_minor": 4
}